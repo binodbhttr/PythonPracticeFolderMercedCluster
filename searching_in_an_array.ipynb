{
 "cells": [
  {
   "cell_type": "code",
   "execution_count": 308,
   "metadata": {},
   "outputs": [
    {
     "name": "stdout",
     "output_type": "stream",
     "text": [
      "At first random.sample created a list named testdata <class 'list'>\n",
      "The total no. of items in the list is 10\n",
      "We created an array named trackedvalue.  <class 'numpy.ndarray'>\n",
      "We will track the position of [ 2  3  9 11] which are initally at different postions\n",
      "This was the original data [5, 9, 7, 4, 10, 2, 8, 6, 1, 3]\n",
      "This is the shuffled data from the original [3, 6, 7, 4, 8, 10, 9, 5, 1, 2]\n",
      "The tracked data [ 2  3  9 11] is at position [9 0 6] now ####(Count from 0)####\n",
      "Testing if the idices are correct. This should give the array of tracked data [2 3 9]\n"
     ]
    }
   ],
   "source": [
    "import numpy as np\n",
    "import random\n",
    "\n",
    "testdata=random.sample(range(1,11),10) #creates a random list of 10 elements that are greater than equal to 1 and less than 11\n",
    "print(\"At first random.sample created a list named testdata\",type(testdata))\n",
    "print(\"The total no. of items in the list is\",len(testdata))\n",
    "trackedvalue=np.array([2,3,9])\n",
    "print(\"We created an array named trackedvalue. \",type(trackedvalue))\n",
    "print(\"We will track the position of\",trackedvalue,\"which are initally at different postions\")\n",
    "shuffled1=random.sample(testdata,len(testdata)) #creates a shuffled random list from the input list\n",
    "shuffled1_ar=np.array(shuffled1) #convert the list to array\n",
    "print(\"This was the original data\",testdata)\n",
    "print(\"This is the shuffled data from the original\",shuffled1)\n",
    "\n",
    "ind=np.array(0)\n",
    "for i in range(len(trackedvalue)):\n",
    "    match=np.where(shuffled1_ar==trackedvalue[i]) #search for the value in array and track its position\n",
    "    ind=np.append(ind,match)\n",
    "\n",
    "    \n",
    "keep_ind=ind[1:len(ind)]\n",
    " #as the position is unique we'd have it at the first index of ind\n",
    "print(\"The tracked data\",trackedvalue,\"is at position\",keep_ind,\"now ####(Count from 0)####\")\n",
    "print(\"Testing if the idices are correct. This should give the array of tracked data\",shuffled1_ar[keep_ind])\n"
   ]
  }
 ],
 "metadata": {
  "kernelspec": {
   "display_name": "Python 3",
   "language": "python",
   "name": "python3"
  },
  "language_info": {
   "codemirror_mode": {
    "name": "ipython",
    "version": 3
   },
   "file_extension": ".py",
   "mimetype": "text/x-python",
   "name": "python",
   "nbconvert_exporter": "python",
   "pygments_lexer": "ipython3",
   "version": "3.8.3"
  }
 },
 "nbformat": 4,
 "nbformat_minor": 4
}
