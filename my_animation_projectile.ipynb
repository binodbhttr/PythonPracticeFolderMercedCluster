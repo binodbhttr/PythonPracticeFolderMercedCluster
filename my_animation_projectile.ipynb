{
 "cells": [
  {
   "cell_type": "code",
   "execution_count": 89,
   "metadata": {},
   "outputs": [
    {
     "name": "stdout",
     "output_type": "stream",
     "text": [
      "5595.000000000001 9690.824268347867\n",
      "4791432.397959183\n",
      "vx= 5595.000000000001 vy= 9690.824268347867 x= 0.0 y= 0.0 at t= 0\n",
      "vx= 5595.000000000001 vy= 9102.824268347867 x= 335700.00000000006 y= 563809.456100872 at t= 60\n",
      "vx= 5595.000000000001 vy= 8514.824268347867 x= 671400.0000000001 y= 1092338.912201744 at t= 120\n",
      "vx= 5595.000000000001 vy= 7926.8242683478675 x= 1007100.0000000001 y= 1585588.368302616 at t= 180\n",
      "vx= 5595.000000000001 vy= 7338.8242683478675 x= 1342800.0000000002 y= 2043557.824403488 at t= 240\n",
      "vx= 5595.000000000001 vy= 6750.8242683478675 x= 1678500.0000000002 y= 2466247.2805043603 at t= 300\n",
      "vx= 5595.000000000001 vy= 6162.8242683478675 x= 2014200.0000000002 y= 2853656.736605232 at t= 360\n",
      "vx= 5595.000000000001 vy= 5574.8242683478675 x= 2349900.0000000005 y= 3205786.1927061044 at t= 420\n",
      "vx= 5595.000000000001 vy= 4986.8242683478675 x= 2685600.0000000005 y= 3522635.648806976 at t= 480\n",
      "vx= 5595.000000000001 vy= 4398.8242683478675 x= 3021300.0000000005 y= 3804205.104907849 at t= 540\n",
      "vx= 5595.000000000001 vy= 3810.8242683478675 x= 3357000.0000000005 y= 4050494.5610087207 at t= 600\n",
      "vx= 5595.000000000001 vy= 3222.8242683478666 x= 3692700.0000000005 y= 4261504.017109592 at t= 660\n",
      "vx= 5595.000000000001 vy= 2634.8242683478666 x= 4028400.0000000005 y= 4437233.473210464 at t= 720\n",
      "vx= 5595.000000000001 vy= 2046.8242683478666 x= 4364100.000000001 y= 4577682.929311337 at t= 780\n",
      "vx= 5595.000000000001 vy= 1458.8242683478675 x= 4699800.000000001 y= 4682852.385412209 at t= 840\n",
      "vx= 5595.000000000001 vy= 870.8242683478675 x= 5035500.000000001 y= 4752741.8415130805 at t= 900\n",
      "vx= 5595.000000000001 vy= 282.8242683478675 x= 5371200.000000001 y= 4787351.297613952 at t= 960\n",
      "vx= 5595.000000000001 vy= -305.1757316521325 x= 5706900.000000001 y= 4786680.753714824 at t= 1020\n",
      "vx= 5595.000000000001 vy= -893.1757316521325 x= 6042600.000000001 y= 4750730.209815698 at t= 1080\n",
      "vx= 5595.000000000001 vy= -1481.1757316521325 x= 6378300.000000001 y= 4679499.6659165695 at t= 1140\n",
      "vx= 5595.000000000001 vy= -2069.1757316521325 x= 6714000.000000001 y= 4572989.12201744 at t= 1200\n",
      "vx= 5595.000000000001 vy= -2657.1757316521325 x= 7049700.000000001 y= 4431198.578118312 at t= 1260\n",
      "vx= 5595.000000000001 vy= -3245.1757316521343 x= 7385400.000000001 y= 4254128.034219185 at t= 1320\n",
      "vx= 5595.000000000001 vy= -3833.1757316521343 x= 7721100.000000001 y= 4041777.4903200567 at t= 1380\n",
      "vx= 5595.000000000001 vy= -4421.175731652134 x= 8056800.000000001 y= 3794146.9464209285 at t= 1440\n",
      "vx= 5595.000000000001 vy= -5009.175731652134 x= 8392500.000000002 y= 3511236.402521802 at t= 1500\n",
      "vx= 5595.000000000001 vy= -5597.175731652134 x= 8728200.000000002 y= 3193045.858622674 at t= 1560\n",
      "vx= 5595.000000000001 vy= -6185.175731652134 x= 9063900.000000002 y= 2839575.314723544 at t= 1620\n",
      "vx= 5595.000000000001 vy= -6773.1757316521325 x= 9399600.000000002 y= 2450824.7708244156 at t= 1680\n",
      "vx= 5595.000000000001 vy= -7361.1757316521325 x= 9735300.000000002 y= 2026794.2269252893 at t= 1740\n",
      "vx= 5595.000000000001 vy= -7949.1757316521325 x= 10071000.000000002 y= 1567483.6830261592 at t= 1800\n",
      "vx= 5595.000000000001 vy= -8537.175731652133 x= 10406700.000000002 y= 1072893.1391270347 at t= 1860\n",
      "vx= 5595.000000000001 vy= -9125.175731652133 x= 10742400.000000002 y= 543022.5952279046 at t= 1920\n",
      "vx= 5595.000000000001 vy= -9713.175731652133 x= 11078100.000000002 y= -22127.948671221733 at t= 1980\n"
     ]
    }
   ],
   "source": [
    "import os\n",
    "import imageio\n",
    "from matplotlib import pyplot as plt\n",
    "import numpy as np\n",
    "\n",
    "\n",
    "plot_path=\"./plots/animation_frames/\" #creating a path to store the plots only if it does not exist\n",
    "if not os.path.exists(plot_path):\n",
    "  os.makedirs(plot_path)\n",
    "\n",
    "'''\n",
    "we are going to plot the animated position of a ball in each second thrown at an angle against the gravity in earth with some initial\n",
    "velocity\n",
    "'''\n",
    "angle=60\n",
    "v_initial=11190 #that's the escape velocity of the earth\n",
    "ay=-9.8\n",
    "ax=0\n",
    "vx_initial=v_initial*np.cos(np.deg2rad(angle)) #calculate the x component of the initial velocity \n",
    "vy_initial=v_initial*np.sin(np.deg2rad(angle)) #calculate the y component of the initial velocity \n",
    "print(\"These are the x and y components of initial velocity\",vx_initial,vy_initial)\n",
    "\n",
    "def position(time,velocity,acceleration):\n",
    "    '''\n",
    "    The function returns the instantaneous position of the ball given teh time,velocity and accleration at that instant\n",
    "    '''\n",
    "    pos=velocity*time + (acceleration*(time)**2)/2\n",
    "    return pos\n",
    "\n",
    "\n",
    "plot_count=0 #counter to coun the no. of plots we create as we go through each instant in time\n",
    "posx_temp=np.array(0) #stores an array of x positions as we move through time\n",
    "posy_temp=np.array(0) #stores an array of y positions as we move through time\n",
    "\n",
    "x_calc=0 #initialzing the calculated x an y positions to 0\n",
    "y_calc=0\n",
    "t=0 #time starts at 0\n",
    "\n",
    "ymax=-(vy_initial**2)/(2*ay)\n",
    "print(\"This is the maximum height\",ymax)\n",
    "xmax=-v_initial**2/a\n",
    "\n",
    "while(y_calc>=0): \n",
    "    '''\n",
    "    we continue to calculate the x and y components of the velocities and the x and y position until y position is less than 0\n",
    "    after y positon is less than 0, the ball continues below the ground which is not the case here.\n",
    "    '''\n",
    "    fig1=plt.figure(figsize=(5,3)) #initialize a figure\n",
    "    ax1 = fig1.add_subplot(1,1,1) #initialize an axes\n",
    "    vx=vx_initial+ax*t #calculate vx at that instant based on initial velocity in x \n",
    "    vy=vy_initial+ay*t #calculate vy at that instant based on initial velocity in y\n",
    "    x_calc=position(t,vx_initial,ax) #calculate x position at that instant\n",
    "    y_calc=position(t,vy_initial,ay) #calculate y position at that instant\n",
    "    print(\"vx=\",vx,\"vy=\",vy,\"x=\",x_calc,\"y=\",y_calc,\"at t=\",t)\n",
    "    posx_temp=np.append(posx_temp,x_calc) #stores new position we get into an array that stores x values as we move in time\n",
    "    posy_temp=np.append(posy_temp,y_calc) #stores new position we get into an array that stores y values as we move in time\n",
    "    \n",
    "    x=posx_temp[1:len(posx_temp)] #cutting the first value which was initialized as 0\n",
    "    y=posy_temp[1:len(posy_temp)] #cutting the first value which was initialized as 0\n",
    "    \n",
    "    t+=60 #increasing the value of time for next instant\n",
    "    ax1.plot(x,y,c=\"blue\") #plotting the vlaues of x and y for all the values upto that instant\n",
    "    ax1.scatter(x[len(x)-1],y[len(y)-1],marker=\"o\",c=\"red\")\n",
    "    ax1.set_xlabel(\"x in Meters\") \n",
    "    ax1.set_ylabel(\"y in Meters\")\n",
    "    ax1.set_xlim(0,xmax+xmax/8)\n",
    "    ax1.set_ylim(0,ymax+ymax/8)\n",
    "    ax1.set_title(\"Position of the ball at T=\"+str(t)+\" in Seconds\") #dynamic title that changes with each snapshot\n",
    "    ax1.annotate(\"g=\"+str(ay)+\",angle=\"+str(angle)+\",v=\"+str(v_initial)+\"m/s\"+\",vx=\"+str(round(vx,2))+\",vy=\"+str(round(vy,2)),xy=(0,ymax+ymax/16),size=8)\n",
    "    plt.tight_layout()\n",
    "    fig1.savefig(plot_path+\"snap\"+str(plot_count)+\".png\",bbox_inches='tight',dpi=200) #saving the figure based on snapshot\n",
    "    plot_count+=1\n",
    "    fig1.clf() #clearing the figure to start a new instant in the next loop\n",
    "    plt.close()\n",
    "    \n",
    "\n",
    "images=[]  #create a list to store all these images we created for each instant\n",
    "for k in range(0,plot_count):\n",
    "    images.append(imageio.imread(plot_path+\"snap\"+str(k) + '.png'))  #stored the images from the plot_path\n",
    "    \n",
    "imageio.mimsave(plot_path+\"animation.gif\", images, duration = 1/5) #create a gif based on all those images. Change duration for fps"
   ]
  },
  {
   "cell_type": "code",
   "execution_count": 76,
   "metadata": {},
   "outputs": [
    {
     "name": "stdout",
     "output_type": "stream",
     "text": [
      "<class 'list'>\n"
     ]
    },
    {
     "data": {
      "image/png": "[encoded data removed]",
      "text/plain": [
       "<Figure size 432x288 with 1 Axes>"
      ]
     },
     "metadata": {
      "needs_background": "light"
     },
     "output_type": "display_data"
    }
   ],
   "source": [
    "#annotate example\n",
    "#out of context from the above cell\n",
    "x = np.arange(10)\n",
    "y = np.array([5,3,4,2,7,5,4,6,3,2])\n",
    "\n",
    "fig = plt.figure()\n",
    "ax = fig.add_subplot(111)\n",
    "ax.set_ylim(0,10)\n",
    "plt.plot(x,y)\n",
    "for i,j in zip(x,y):\n",
    "    ax.annotate(str(j),xy=(i,j))\n",
    "\n",
    "plt.show()"
   ]
  },
  {
   "cell_type": "markdown",
   "metadata": {},
   "source": [
    "Hello I koive yoyr"
   ]
  },
  {
   "cell_type": "code",
   "execution_count": null,
   "metadata": {},
   "outputs": [],
   "source": []
  }
 ],
 "metadata": {
  "kernelspec": {
   "display_name": "Python 3",
   "language": "python",
   "name": "python3"
  },
  "language_info": {
   "codemirror_mode": {
    "name": "ipython",
    "version": 3
   },
   "file_extension": ".py",
   "mimetype": "text/x-python",
   "name": "python",
   "nbconvert_exporter": "python",
   "pygments_lexer": "ipython3",
   "version": "3.8.3"
  }
 },
 "nbformat": 4,
 "nbformat_minor": 4
}
