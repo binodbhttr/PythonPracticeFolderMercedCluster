{
 "cells": [
  {
   "cell_type": "code",
   "execution_count": 38,
   "metadata": {},
   "outputs": [
    {
     "name": "stdin",
     "output_type": "stream",
     "text": [
      "Enter a number 200\n"
     ]
    },
    {
     "name": "stdout",
     "output_type": "stream",
     "text": [
      "The factorial is 2019900.9999999998\n"
     ]
    }
   ],
   "source": [
    "import numpy as numpy\n",
    "a=1\n",
    "fact=float()\n",
    "fact=1\n",
    "val=int(input(\"Enter a number\"))\n",
    "for i in numpy.arange(1,val+1,0.01):\n",
    "    fact=fact+i\n",
    "    \n",
    "print(\"The factorial is\",fact)"
   ]
  }
 ],
 "metadata": {
  "kernelspec": {
   "display_name": "Python 3",
   "language": "python",
   "name": "python3"
  },
  "language_info": {
   "codemirror_mode": {
    "name": "ipython",
    "version": 3
   },
   "file_extension": ".py",
   "mimetype": "text/x-python",
   "name": "python",
   "nbconvert_exporter": "python",
   "pygments_lexer": "ipython3",
   "version": "3.7.6"
  }
 },
 "nbformat": 4,
 "nbformat_minor": 4
}
