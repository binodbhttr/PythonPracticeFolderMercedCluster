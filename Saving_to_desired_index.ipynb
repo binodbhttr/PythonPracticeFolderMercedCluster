{
 "cells": [
  {
   "cell_type": "code",
   "execution_count": 7,
   "metadata": {},
   "outputs": [
    {
     "name": "stdout",
     "output_type": "stream",
     "text": [
      "This is the dictionary that stored the values {671: 671, 672: 672, 673: 673, 674: 674, 675: 675, 676: 676, 677: 677, 678: 678, 679: 679, 680: 680, 681: 681, 682: 682, 683: 683, 684: 684, 685: 685, 686: 686, 687: 687, 688: 688, 689: 689, 690: 690, 691: 691, 692: 692, 693: 693, 694: 694, 695: 695, 696: 696, 697: 697}\n",
      "This must be an array {671: 671, 672: 672, 673: 673, 674: 674, 675: 675, 676: 676, 677: 677, 678: 678, 679: 679, 680: 680, 681: 681, 682: 682, 683: 683, 684: 684, 685: 685, 686: 686, 687: 687, 688: 688, 689: 689, 690: 690, 691: 691, 692: 692, 693: 693, 694: 694, 695: 695, 696: 696, 697: 697}\n",
      "The sum of all a is 18468\n",
      "<class 'dict'>\n",
      "671\n"
     ]
    }
   ],
   "source": [
    "import numpy as np\n",
    "start=671\n",
    "end=697\n",
    "a={}\n",
    "count=start\n",
    "for i in range(end-start+1):\n",
    "    a[count]=count\n",
    "    count=count+1\n",
    "   \n",
    "print(\"This is the dictionary that stored the values\",a)    \n",
    "b=np.array(a)\n",
    "print(\"This must be an array\",b)    \n",
    "\n",
    "def sum(x):\n",
    "    s=0\n",
    "    l=len(x)\n",
    "    for i in range(l):\n",
    "        s=s+x[i+start]\n",
    "    return s\n",
    "\n",
    "print(\"The sum of all a is\",sum(a))    \n",
    "    \n",
    "print(type(a))\n",
    "print(a[671])"
   ]
  },
  {
   "cell_type": "code",
   "execution_count": null,
   "metadata": {},
   "outputs": [],
   "source": []
  }
 ],
 "metadata": {
  "kernelspec": {
   "display_name": "Python 3",
   "language": "python",
   "name": "python3"
  },
  "language_info": {
   "codemirror_mode": {
    "name": "ipython",
    "version": 3
   },
   "file_extension": ".py",
   "mimetype": "text/x-python",
   "name": "python",
   "nbconvert_exporter": "python",
   "pygments_lexer": "ipython3",
   "version": "3.8.3"
  }
 },
 "nbformat": 4,
 "nbformat_minor": 4
}
