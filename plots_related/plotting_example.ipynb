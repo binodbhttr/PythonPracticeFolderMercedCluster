{
 "cells": [
  {
   "cell_type": "code",
   "execution_count": 16,
   "metadata": {},
   "outputs": [
    {
     "name": "stdout",
     "output_type": "stream",
     "text": [
      "Absolute value:  [2 5 0 1 2]\n"
     ]
    },
    {
     "data": {
      "image/png": "[encoded data removed]",
      "text/plain": [
       "<Figure size 432x288 with 1 Axes>"
      ]
     },
     "metadata": {
      "needs_background": "light"
     },
     "output_type": "display_data"
    },
    {
     "name": "stdout",
     "output_type": "stream",
     "text": [
      "This is a [5 6 7 8 9]\n",
      "[0 1 2 3 4 5 6 7 8 9]\n"
     ]
    }
   ],
   "source": [
    "import numpy as np\n",
    "from matplotlib import pyplot as plt\n",
    "arr = [-2,-5,0,1,2] \n",
    "\n",
    "print(\"Absolute value: \", np.absolute(arr))\n",
    "\n",
    "fig=plt.figure()\n",
    "ax1=fig.add_subplot(1,1,1)\n",
    "#ax1.plot(snapshot_list,avg_r_cm)\n",
    "ax1.set_xlabel('Snapshots')\n",
    "ax1.set_ylabel('Avg Dist from CM')\n",
    "plt.tight_layout()\n",
    "#fig.savefig(\"./plots/snapshots_vs_averageDistanceFromCM\")\n",
    "plt.show()\n",
    "\n",
    "\n",
    "a=np.arange(5,10)\n",
    "print(\"This is a\",a)\n",
    "\n",
    "avg_r_cm_temp=np.array(0)\n",
    "for i in range(10):\n",
    "  avg_r_cm_temp=np.append(avg_r_cm_temp,i)\n",
    "\n",
    "avg_r_cm=avg_r_cm_temp[1:len(avg_r_cm_temp)]\n",
    "print(avg_r_cm)"
   ]
  },
  {
   "cell_type": "code",
   "execution_count": null,
   "metadata": {},
   "outputs": [],
   "source": []
  }
 ],
 "metadata": {
  "kernelspec": {
   "display_name": "Python 3",
   "language": "python",
   "name": "python3"
  },
  "language_info": {
   "codemirror_mode": {
    "name": "ipython",
    "version": 3
   },
   "file_extension": ".py",
   "mimetype": "text/x-python",
   "name": "python",
   "nbconvert_exporter": "python",
   "pygments_lexer": "ipython3",
   "version": "3.8.3"
  }
 },
 "nbformat": 4,
 "nbformat_minor": 4
}
