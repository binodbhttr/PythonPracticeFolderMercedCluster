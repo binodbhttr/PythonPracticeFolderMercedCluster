{
 "cells": [
  {
   "cell_type": "code",
   "execution_count": 23,
   "metadata": {},
   "outputs": [
    {
     "name": "stdout",
     "output_type": "stream",
     "text": [
      "[7, 10, 8, 1, 3, 9, 4, 5, 2, 6]\n",
      "(array([2]),)\n"
     ]
    },
    {
     "data": {
      "text/plain": [
       "(array([1]),)"
      ]
     },
     "execution_count": 23,
     "metadata": {},
     "output_type": "execute_result"
    }
   ],
   "source": [
    "import numpy as np\n",
    "import random\n",
    "testdata=random.sample(range(1,11),10)\n",
    "print(testdata)\n",
    "testdata_ar=np.array(testdata)\n",
    "loc=np.where(testdata_ar==testdata_ar[2])   #note np.where can only compare for a value which is faster than running a loop and searching\n",
    "print(loc)\n",
    "\n",
    "\n",
    "a = np.array([1,2,3,4,5,6])\n",
    "\n",
    "b = np.array([2])\n",
    "np.where(b==a)"
   ]
  }
 ],
 "metadata": {
  "kernelspec": {
   "display_name": "Python 3",
   "language": "python",
   "name": "python3"
  },
  "language_info": {
   "codemirror_mode": {
    "name": "ipython",
    "version": 3
   },
   "file_extension": ".py",
   "mimetype": "text/x-python",
   "name": "python",
   "nbconvert_exporter": "python",
   "pygments_lexer": "ipython3",
   "version": "3.8.3"
  }
 },
 "nbformat": 4,
 "nbformat_minor": 4
}
