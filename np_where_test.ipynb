{
 "cells": [
  {
   "cell_type": "code",
   "execution_count": 51,
   "metadata": {},
   "outputs": [
    {
     "name": "stdout",
     "output_type": "stream",
     "text": [
      "[1, 9, 2, 3, 4, 10, 8, 5, 6, 7]\n",
      "(array([2]),)\n"
     ]
    }
   ],
   "source": [
    "import numpy as np\n",
    "import random\n",
    "testdata=random.sample(range(1,11),10)\n",
    "print(testdata)\n",
    "testdata_ar=np.array(testdata)\n",
    "loc=np.where(testdata_ar==testdata_ar[2])\n",
    "print(loc)\n"
   ]
  }
 ],
 "metadata": {
  "kernelspec": {
   "display_name": "Python 3",
   "language": "python",
   "name": "python3"
  },
  "language_info": {
   "codemirror_mode": {
    "name": "ipython",
    "version": 3
   },
   "file_extension": ".py",
   "mimetype": "text/x-python",
   "name": "python",
   "nbconvert_exporter": "python",
   "pygments_lexer": "ipython3",
   "version": "3.8.3"
  }
 },
 "nbformat": 4,
 "nbformat_minor": 4
}
