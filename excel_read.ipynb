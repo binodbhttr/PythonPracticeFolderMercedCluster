{
 "cells": [
  {
   "cell_type": "code",
   "execution_count": 31,
   "metadata": {},
   "outputs": [
    {
     "name": "stdout",
     "output_type": "stream",
     "text": [
      "Index(['Time (s)', 'Illuminance (lx)'], dtype='object')\n",
      "<class 'pandas.core.series.Series'>\n",
      "This is the median from the data 1521.5459060044805\n",
      "{'data1': [1, 2, 3, 4, 54], 'data2': [4, 5, 65, 4, 4, 2342]}\n",
      "['Renu', 'tenu', 'menu', 'benu']\n"
     ]
    },
    {
     "data": {
      "image/png": "[encoded data removed]",
      "text/plain": [
       "<Figure size 432x288 with 1 Axes>"
      ]
     },
     "metadata": {
      "needs_background": "light"
     },
     "output_type": "display_data"
    }
   ],
   "source": [
    "from matplotlib import pyplot as plt\n",
    "import pandas as pd\n",
    "import numpy as np\n",
    "\n",
    "df = pd.read_excel ('light_data.xls')\n",
    "\n",
    "print(df.keys())\n",
    "\n",
    "t=df['Time (s)']\n",
    "l=df['Illuminance (lx)']\n",
    "\n",
    "\n",
    "print(type(l))\n",
    "y=np.array(l)\n",
    "x=np.array(t)\n",
    "\n",
    "print(\"This is the median from the data\",np.std(y))\n",
    "\n",
    "t=[\"Renu\",\"tenu\",\"menu\",\"benu\"]\n",
    "\n",
    "a={\"data1\":[1,2,3,4,54,],\"data2\":[4,5,65,4,4,2342]}\n",
    "\n",
    "print(a)\n",
    "\n",
    "marks=[2,5,3,1]\n",
    "\n",
    "plt.plot(t,marks)\n",
    "\n",
    "print(t)\n",
    "\n",
    "#plt.plot(x,y)\n",
    "plt.xlabel(\"x\")\n",
    "plt.ylabel(\"this is the ylabel\")\n",
    "plt.title(\"This is the titel of the plot\")\n",
    "plt.savefig(\"renu.png\")"
   ]
  },
  {
   "cell_type": "code",
   "execution_count": null,
   "metadata": {},
   "outputs": [],
   "source": []
  },
  {
   "cell_type": "code",
   "execution_count": 29,
   "metadata": {},
   "outputs": [],
   "source": [
    "import pandas as pd\n",
    "from pandas import ExcelWriter\n",
    "from pandas import ExcelFile\n",
    "import numpy as np\n",
    "\n",
    "df = pd.DataFrame({'a':[1,3,5,7,4,5,6,4,7,8,9],\n",
    "                   'b':[3,5,6,2,4,6,7,8,7,8,9]})\n",
    "\n",
    "writer = ExcelWriter('Pandas-Example2.xlsx')\n",
    "df.to_excel(writer,'Sheet1',index=False)\n",
    "writer.save()"
   ]
  },
  {
   "cell_type": "code",
   "execution_count": null,
   "metadata": {},
   "outputs": [],
   "source": []
  },
  {
   "cell_type": "code",
   "execution_count": 24,
   "metadata": {},
   "outputs": [
    {
     "name": "stdout",
     "output_type": "stream",
     "text": [
      "Defaulting to user installation because normal site-packages is not writeable\n",
      "Collecting RenuSPy\n",
      "  Downloading RenuSPy-0.2.tar.gz (1.4 kB)\n",
      "Requirement already satisfied: numpy in /home/jupyterhub/miniconda3/lib/python3.8/site-packages (from RenuSPy) (1.18.5)\n",
      "Requirement already satisfied: scipy in /home/jupyterhub/miniconda3/lib/python3.8/site-packages (from RenuSPy) (1.4.1)\n",
      "Building wheels for collected packages: RenuSPy\n",
      "  Building wheel for RenuSPy (setup.py) ... \u001b[?25ldone\n",
      "\u001b[?25h  Created wheel for RenuSPy: filename=RenuSPy-0.2-py3-none-any.whl size=1511 sha256=789225ea8068a2bba19a0272bbb2d06ffb1802012b218be0aac1d337d87facc8\n",
      "  Stored in directory: /home/bbhattarai/.cache/pip/wheels/f5/bf/df/2c16a9c7b1f0f5da8b6b82fb0b79bd277a2648a91b64843180\n",
      "Successfully built RenuSPy\n",
      "Installing collected packages: RenuSPy\n",
      "Successfully installed RenuSPy-0.2\n"
     ]
    }
   ],
   "source": [
    "!pip install RenuSPy"
   ]
  },
  {
   "cell_type": "code",
   "execution_count": 28,
   "metadata": {},
   "outputs": [
    {
     "ename": "NameError",
     "evalue": "name 'add' is not defined",
     "output_type": "error",
     "traceback": [
      "\u001b[0;31m---------------------------------------------------------------------------\u001b[0m",
      "\u001b[0;31mNameError\u001b[0m                                 Traceback (most recent call last)",
      "\u001b[0;32m<ipython-input-28-5252b306d22b>\u001b[0m in \u001b[0;36m<module>\u001b[0;34m\u001b[0m\n\u001b[0;32m----> 1\u001b[0;31m \u001b[0mx\u001b[0m\u001b[0;34m=\u001b[0m\u001b[0madd\u001b[0m\u001b[0;34m(\u001b[0m\u001b[0;36m2\u001b[0m\u001b[0;34m,\u001b[0m\u001b[0;36m30\u001b[0m\u001b[0;34m)\u001b[0m\u001b[0;34m\u001b[0m\u001b[0;34m\u001b[0m\u001b[0m\n\u001b[0m\u001b[1;32m      2\u001b[0m \u001b[0;34m\u001b[0m\u001b[0m\n\u001b[1;32m      3\u001b[0m \u001b[0mprint\u001b[0m\u001b[0;34m(\u001b[0m\u001b[0mx\u001b[0m\u001b[0;34m)\u001b[0m\u001b[0;34m\u001b[0m\u001b[0;34m\u001b[0m\u001b[0m\n",
      "\u001b[0;31mNameError\u001b[0m: name 'add' is not defined"
     ]
    }
   ],
   "source": [
    "\n"
   ]
  },
  {
   "cell_type": "code",
   "execution_count": null,
   "metadata": {},
   "outputs": [],
   "source": []
  },
  {
   "cell_type": "code",
   "execution_count": null,
   "metadata": {},
   "outputs": [],
   "source": []
  },
  {
   "cell_type": "code",
   "execution_count": null,
   "metadata": {},
   "outputs": [],
   "source": []
  },
  {
   "cell_type": "code",
   "execution_count": null,
   "metadata": {},
   "outputs": [],
   "source": []
  },
  {
   "cell_type": "code",
   "execution_count": null,
   "metadata": {},
   "outputs": [],
   "source": []
  },
  {
   "cell_type": "code",
   "execution_count": null,
   "metadata": {},
   "outputs": [],
   "source": []
  },
  {
   "cell_type": "code",
   "execution_count": null,
   "metadata": {},
   "outputs": [],
   "source": []
  },
  {
   "cell_type": "code",
   "execution_count": null,
   "metadata": {},
   "outputs": [],
   "source": []
  },
  {
   "cell_type": "code",
   "execution_count": null,
   "metadata": {},
   "outputs": [],
   "source": []
  },
  {
   "cell_type": "code",
   "execution_count": null,
   "metadata": {},
   "outputs": [],
   "source": []
  },
  {
   "cell_type": "code",
   "execution_count": null,
   "metadata": {},
   "outputs": [],
   "source": []
  },
  {
   "cell_type": "code",
   "execution_count": null,
   "metadata": {},
   "outputs": [],
   "source": []
  },
  {
   "cell_type": "code",
   "execution_count": null,
   "metadata": {},
   "outputs": [],
   "source": []
  },
  {
   "cell_type": "code",
   "execution_count": null,
   "metadata": {},
   "outputs": [],
   "source": []
  },
  {
   "cell_type": "code",
   "execution_count": null,
   "metadata": {},
   "outputs": [],
   "source": []
  },
  {
   "cell_type": "code",
   "execution_count": null,
   "metadata": {},
   "outputs": [],
   "source": []
  }
 ],
 "metadata": {
  "kernelspec": {
   "display_name": "Python 3",
   "language": "python",
   "name": "python3"
  },
  "language_info": {
   "codemirror_mode": {
    "name": "ipython",
    "version": 3
   },
   "file_extension": ".py",
   "mimetype": "text/x-python",
   "name": "python",
   "nbconvert_exporter": "python",
   "pygments_lexer": "ipython3",
   "version": "3.8.3"
  }
 },
 "nbformat": 4,
 "nbformat_minor": 4
}
